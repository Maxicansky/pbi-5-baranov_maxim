{
 "cells": [
  {
   "cell_type": "markdown",
   "metadata": {},
   "source": [
    "### Задание\n",
    "\n",
    "При фиксированном seed=42 поразбирайтесь и поэкспериментируйте с параметрами алгоритма:\n",
    "strategy, maxiter, popsize, tol, mutation, recombination и updating.\n",
    "\n",
    "Постройте графики количества итераций оптимизации функции ackley от значения параметра.\n",
    "\n",
    "#### Допзадание\n",
    "\n",
    "Найти множество параметров (strategy=..., maxiter=..., ..., updating=...), которые требуют минимального количества итераций."
   ]
  },
  {
   "cell_type": "markdown",
   "metadata": {},
   "source": [
    "# О параметрах"
   ]
  },
  {
   "cell_type": "markdown",
   "metadata": {},
   "source": [
    "Как удалось выяснить из   \n",
    "https://www.coursera.org/lecture/mathematics-and-python/gienietichieskiie-alghoritmy-i-diffierientsial-naia-evoliutsiia-Do6vt ,  \n",
    "https://docs.scipy.org/doc/scipy/reference/generated/scipy.optimize.differential_evolution.html ,  \n",
    "https://mai.ru/upload/iblock/f49/primenenie-metoda-differentsialnoy-evolyutsii-dlya-optimizatsii-parametrov-aerokosmicheskikh-sistem.pdf  \n",
    "**maxiter** - это максимальное число поколений. Т.е. как раз та величина которую мы ищем. Следовательно трогать ее мы не будем. Она нам может пригодится только при оптимизации например.  \n",
    "По умолчанию данный параметр равен 1000.  \n",
    "**popsize** - размер популяции, принимается равным от 5*2 до 10*2, где 2 размерность исследуемой функции (в нащем случае 2).  \n",
    "**tol** - относительная погрешность. Нам не нужна. Она конечно может уменьшить количество поколений, но уменьшит точность расчета.  \n",
    "**mutation** - сила мутации от 0 до 2.\n",
    "**recombination** - фактически вероятность с которой принимается или отклоняется новое поколение. От 0 до 1 соответственно.  \n",
    "**strategy** и **updaiting** - параметры модели."
   ]
  },
  {
   "cell_type": "code",
   "execution_count": 123,
   "metadata": {},
   "outputs": [],
   "source": [
    "import numpy as np\n",
    "from scipy.optimize import differential_evolution\n",
    "import matplotlib.pyplot as plt"
   ]
  },
  {
   "cell_type": "code",
   "execution_count": 88,
   "metadata": {},
   "outputs": [
    {
     "data": {
      "text/plain": [
       "     fun: 4.440892098500626e-16\n",
       " message: 'Optimization terminated successfully.'\n",
       "    nfev: 2763\n",
       "     nit: 89\n",
       " success: True\n",
       "       x: array([0., 0.])"
      ]
     },
     "execution_count": 88,
     "metadata": {},
     "output_type": "execute_result"
    }
   ],
   "source": [
    "def ackley(x):\n",
    "    arg1 = -0.2 * np.sqrt(0.5 * (x[0] ** 2 + x[1] ** 2))\n",
    "    arg2 = 0.5 * (np.cos(2. * np.pi * x[0]) + np.cos(2. * np.pi * x[1]))\n",
    "    return -20. * np.exp(arg1) - np.exp(arg2) + 20. + np.e\n",
    "\n",
    "bounds = [(-10, 10), (-10, 10)]\n",
    "result = differential_evolution(ackley, bounds, seed=42)\n",
    "result"
   ]
  },
  {
   "cell_type": "markdown",
   "metadata": {},
   "source": [
    "Попробуем устроить что-то типа градиентного спуска. Для этого создадим несколько словарей для выьраных параметров."
   ]
  },
  {
   "cell_type": "code",
   "execution_count": 7,
   "metadata": {},
   "outputs": [
    {
     "data": {
      "text/plain": [
       "{1: 'best1bin',\n",
       " 2: 'best1exp',\n",
       " 3: 'rand1exp',\n",
       " 4: 'randtobest1exp',\n",
       " 5: 'currenttobest1exp',\n",
       " 6: 'best2exp',\n",
       " 7: 'rand2exp',\n",
       " 8: 'randtobest1bin',\n",
       " 9: 'currenttobest1bin',\n",
       " 10: 'best2bin',\n",
       " 11: 'rand2bin',\n",
       " 12: 'rand1bin'}"
      ]
     },
     "execution_count": 7,
     "metadata": {},
     "output_type": "execute_result"
    }
   ],
   "source": [
    "dict_strategy = {1: \"best1bin\", 2: \"best1exp\", 3: \"rand1exp\", 4: \"randtobest1exp\", 5: \"currenttobest1exp\", 6: \"best2exp\", 7: \"rand2exp\", 8: \"randtobest1bin\", 9: \"currenttobest1bin\", 10: \"best2bin\", 11: \"rand2bin\", 12: \"rand1bin\"}\n",
    "\n",
    "dict_strategy"
   ]
  },
  {
   "cell_type": "code",
   "execution_count": 47,
   "metadata": {},
   "outputs": [
    {
     "data": {
      "text/plain": [
       "{1: 11, 2: 12, 3: 13, 4: 14, 5: 15, 6: 16, 7: 17, 8: 18, 9: 19, 10: 20}"
      ]
     },
     "execution_count": 47,
     "metadata": {},
     "output_type": "execute_result"
    }
   ],
   "source": [
    "dict_popsize = {}\n",
    "dict_popsize = {count+1: int(count+11) for count in range(10)}\n",
    "dict_popsize"
   ]
  },
  {
   "cell_type": "code",
   "execution_count": 69,
   "metadata": {},
   "outputs": [
    {
     "data": {
      "text/plain": [
       "{1: 0.0,\n",
       " 2: 0.2,\n",
       " 3: 0.4,\n",
       " 4: 0.6,\n",
       " 5: 0.8,\n",
       " 6: 1.0,\n",
       " 7: 1.2,\n",
       " 8: 1.4,\n",
       " 9: 1.6,\n",
       " 10: 1.8}"
      ]
     },
     "execution_count": 69,
     "metadata": {},
     "output_type": "execute_result"
    }
   ],
   "source": [
    "dict_mutation = {}\n",
    "dict_mutation = {count+1: count*2/10 for count in range(10)}\n",
    "dict_mutation\n"
   ]
  },
  {
   "cell_type": "code",
   "execution_count": 36,
   "metadata": {},
   "outputs": [
    {
     "data": {
      "text/plain": [
       "{1: 0.0,\n",
       " 2: 0.1,\n",
       " 3: 0.2,\n",
       " 4: 0.3,\n",
       " 5: 0.4,\n",
       " 6: 0.5,\n",
       " 7: 0.6,\n",
       " 8: 0.7,\n",
       " 9: 0.8,\n",
       " 10: 0.9,\n",
       " 11: 1.0}"
      ]
     },
     "execution_count": 36,
     "metadata": {},
     "output_type": "execute_result"
    }
   ],
   "source": [
    "dict_recombination = {}\n",
    "dict_recombination = {count+1: (count)/10 for count in range(11)}\n",
    "dict_recombination"
   ]
  },
  {
   "cell_type": "code",
   "execution_count": 37,
   "metadata": {},
   "outputs": [
    {
     "data": {
      "text/plain": [
       "{1: 'immediate', 2: 'deferred'}"
      ]
     },
     "execution_count": 37,
     "metadata": {},
     "output_type": "execute_result"
    }
   ],
   "source": [
    "dict_updating = {1: \"immediate\", 2: \"deferred\"}\n",
    "dict_updating"
   ]
  },
  {
   "cell_type": "markdown",
   "metadata": {},
   "source": [
    "Теперь будем действовать следующим образоим. Смотрим значение количества поколений в некоторой точке параметров и ее окресностях.  \n",
    "Если находим меньшее значение, то переходим в эту точку и повторяем расчеты.  \n",
    "До тех пор пока не \"замрем\" в какой-нибудь точке."
   ]
  },
  {
   "cell_type": "markdown",
   "metadata": {},
   "source": [
    "Очевидной ошибкой является использование **strategy** в качестве одного из параметров. Данный параметр вряд ли выстраивался так   \n",
    "чтобы можно было плавно (с точки зрения количества поколений) переходить от одного его значения к другому.   \n",
    "Здесь, мы просто развлекаемся, задача была \"потрогать параметры\" сделаем это. Кроме того, расчет методом градиетного спуска по   \n",
    "каждому значению параметра **strategy** займет много времени"
   ]
  },
  {
   "cell_type": "code",
   "execution_count": 137,
   "metadata": {},
   "outputs": [],
   "source": [
    "response = np.zeros((12,10,11,11,2))"
   ]
  },
  {
   "cell_type": "code",
   "execution_count": 138,
   "metadata": {},
   "outputs": [],
   "source": [
    "matrix = np.zeros((3,3,3,3))\n",
    "x = []\n",
    "y = []"
   ]
  },
  {
   "cell_type": "code",
   "execution_count": 119,
   "metadata": {},
   "outputs": [
    {
     "name": "stdout",
     "output_type": "stream",
     "text": [
      "552 randtobest1exp 11 1.0 0.1 immediate\n",
      "1 0 -1 -1\n",
      "5 4 1 1 5 6 1 2\n",
      "Перепрошиваем\n",
      "289 currenttobest1exp 11 1.0 0.2 immediate\n",
      "-1 0 0 -1\n",
      "4 5 1 1 6 6 2 3\n",
      "Перепрошиваем\n",
      "207 randtobest1exp 11 1.0 0.3 immediate\n",
      "1 0 0 -1\n",
      "5 4 1 1 6 6 3 4\n",
      "Перепрошиваем\n",
      "124 randtobest1exp 11 1.0 0.4 immediate\n",
      "0 0 0 -1\n",
      "4 4 1 1 6 6 4 5\n",
      "Перепрошиваем\n",
      "61 randtobest1exp 11 1.0 0.5 immediate\n",
      "0 0 0 -1\n",
      "4 4 1 1 6 6 5 6\n",
      "Перепрошиваем\n",
      "35 currenttobest1exp 11 1.0 0.6 immediate\n",
      "-1 0 0 -1\n",
      "4 5 1 1 6 6 6 7\n",
      "Перепрошиваем\n",
      "35 currenttobest1exp 11 1.0 0.6 immediate\n",
      "0 0 0 0\n",
      "5 5 1 1 6 6 7 7\n",
      "Расчет закончен\n"
     ]
    }
   ],
   "source": [
    "bounds = [(-10, 10), (-10, 10)]\n",
    "min = 1001\n",
    "i,j,k,l,m = 5,1,5,1,1\n",
    "count = 1\n",
    "while count > 0:\n",
    "    for i_i in range(3):\n",
    "        for j_j in range(3):\n",
    "            for k_k in range(3):\n",
    "                for l_l in range(3):\n",
    "                    i_area = i + i_i - 1\n",
    "                    j_area = j + j_j - 1\n",
    "                    k_area = k + k_k - 1\n",
    "                    l_area = l + l_l - 1\n",
    "                    try:\n",
    "                        dict_strategy[i_area]\n",
    "                    except:\n",
    "                        i_area = i\n",
    "                    try:\n",
    "                        dict_popsize[j_area]\n",
    "                    except:\n",
    "                        j_area = j\n",
    "                    try:\n",
    "                        dict_mutation[k_area]\n",
    "                    except:\n",
    "                        k_area = k\n",
    "                    try:\n",
    "                        dict_recombination[l_area]\n",
    "                    except:\n",
    "                        l_area = l\n",
    "                    response = differential_evolution(ackley, bounds, strategy = dict_strategy[i_area], popsize = dict_popsize[j_area], mutation = dict_mutation[k_area], recombination = dict_recombination[l_area], seed=42, updating = dict_updating[m])\n",
    "                    matrix[i_i][j_j][k_k][l_l] = response.nit\n",
    "                    if response.nit < min:\n",
    "                        i_min, j_min, k_min, l_min, min = i_area, j_area, k_area, l_area, response.nit \n",
    "    print(min, dict_strategy[i_min], dict_popsize[j_min], dict_mutation[k_min], dict_recombination[l_min], dict_updating[m])\n",
    "    print (i-i_min, j-j_min, k-k_min, l-l_min)\n",
    "    print (i, i_min, j, j_min, k, k_min, l, l_min)\n",
    "    if (i == i_min) and (j == j_min) and (l == l_min) and (k == k_min):\n",
    "        print (\"Расчет закончен\")\n",
    "        break\n",
    "    else:\n",
    "        print('Перепрошиваем')\n",
    "        i, j, k, l = i_min, j_min, k_min, l_min\n",
    "        x.append(dict_recombination[l_min])\n",
    "        y.append(min)"
   ]
  },
  {
   "cell_type": "code",
   "execution_count": 127,
   "metadata": {},
   "outputs": [
    {
     "name": "stdout",
     "output_type": "stream",
     "text": [
      "nit = 35 strategy = currenttobest1exp popsize = 11 mutation = 1.0 recombination = 0.6 seed = 42 updating = immediate\n"
     ]
    }
   ],
   "source": [
    "print (\"nit =\", min, \"strategy =\", dict_strategy[i], \"popsize =\", dict_popsize[j], \"mutation =\", dict_mutation[k], \"recombination =\", dict_recombination[l], \"seed =\", 42, \"updating =\", dict_updating[m])"
   ]
  },
  {
   "cell_type": "markdown",
   "metadata": {},
   "source": [
    "Здесь нам повезло, мы сразу попали в точку из которой началось движение с уменьшением **nit**"
   ]
  },
  {
   "cell_type": "markdown",
   "metadata": {},
   "source": [
    "Строим график по **recombination**"
   ]
  },
  {
   "cell_type": "code",
   "execution_count": 124,
   "metadata": {},
   "outputs": [
    {
     "data": {
      "image/png": "[encoded data removed]",
      "text/plain": [
       "<Figure size 432x288 with 1 Axes>"
      ]
     },
     "metadata": {
      "needs_background": "light"
     },
     "output_type": "display_data"
    }
   ],
   "source": [
    "plt.plot(x,y)\n",
    "plt.show()"
   ]
  },
  {
   "cell_type": "markdown",
   "metadata": {},
   "source": [
    "Делаем еще несколько расчетов стартуя из других точек.  \n",
    "Сразу отмечу, что красивого движения точки в пространстве параметров больше не получилось, хотя значения   \n",
    "**nit** получились меньше"
   ]
  },
  {
   "cell_type": "code",
   "execution_count": 139,
   "metadata": {},
   "outputs": [
    {
     "name": "stdout",
     "output_type": "stream",
     "text": [
      "5 best1bin 14 0.0 0.4 deferred\n",
      "0 1 0 0\n",
      "1 1 5 4 1 1 5 5\n",
      "Перепрошиваем\n",
      "5 best1bin 14 0.0 0.4 deferred\n",
      "0 0 0 0\n",
      "1 1 4 4 1 1 5 5\n",
      "Расчет закончен\n"
     ]
    }
   ],
   "source": [
    "bounds = [(-10, 10), (-10, 10)]\n",
    "min = 1001\n",
    "i,j,k,l,m = 1,5,1,5,2\n",
    "count = 1\n",
    "while count > 0:\n",
    "    for i_i in range(3):\n",
    "        for j_j in range(3):\n",
    "            for k_k in range(3):\n",
    "                for l_l in range(3):\n",
    "                    i_area = i + i_i - 1\n",
    "                    j_area = j + j_j - 1\n",
    "                    k_area = k + k_k - 1\n",
    "                    l_area = l + l_l - 1\n",
    "                    try:\n",
    "                        dict_strategy[i_area]\n",
    "                    except:\n",
    "                        i_area = i\n",
    "                    try:\n",
    "                        dict_popsize[j_area]\n",
    "                    except:\n",
    "                        j_area = j\n",
    "                    try:\n",
    "                        dict_mutation[k_area]\n",
    "                    except:\n",
    "                        k_area = k\n",
    "                    try:\n",
    "                        dict_recombination[l_area]\n",
    "                    except:\n",
    "                        l_area = l\n",
    "                    response = differential_evolution(ackley, bounds, strategy = dict_strategy[i_area], popsize = dict_popsize[j_area], mutation = dict_mutation[k_area], recombination = dict_recombination[l_area], seed=42, updating = dict_updating[m])\n",
    "                    matrix[i_i][j_j][k_k][l_l] = response.nit\n",
    "                    if response.nit < min:\n",
    "                        i_min, j_min, k_min, l_min, min = i_area, j_area, k_area, l_area, response.nit \n",
    "    print(min, dict_strategy[i_min], dict_popsize[j_min], dict_mutation[k_min], dict_recombination[l_min], dict_updating[m])\n",
    "    print (i-i_min, j-j_min, k-k_min, l-l_min)\n",
    "    print (i, i_min, j, j_min, k, k_min, l, l_min)\n",
    "    if (i == i_min) and (j == j_min) and (l == l_min) and (k == k_min):\n",
    "        print (\"Расчет закончен\")\n",
    "        break\n",
    "    else:\n",
    "        print('Перепрошиваем')\n",
    "        i, j, k, l = i_min, j_min, k_min, l_min\n",
    "        x.append(dict_recombination[l_min])\n",
    "        y.append(min)"
   ]
  },
  {
   "cell_type": "code",
   "execution_count": 129,
   "metadata": {},
   "outputs": [
    {
     "name": "stdout",
     "output_type": "stream",
     "text": [
      "nit = 5 strategy = best1bin popsize = 14 mutation = 0.0 recombination = 0.4 seed = 42 updating = deferred\n"
     ]
    }
   ],
   "source": [
    "print (\"nit =\", min, \"strategy =\", dict_strategy[i], \"popsize =\", dict_popsize[j], \"mutation =\", dict_mutation[k], \"recombination =\", dict_recombination[l], \"seed =\", 42, \"updating =\", dict_updating[m])"
   ]
  },
  {
   "cell_type": "code",
   "execution_count": 130,
   "metadata": {},
   "outputs": [
    {
     "name": "stdout",
     "output_type": "stream",
     "text": [
      "5 best1bin 11 0.0 0.0 deferred\n",
      "0 0 0 0\n",
      "1 1 1 1 1 1 1 1\n",
      "Расчет закончен\n"
     ]
    }
   ],
   "source": [
    "bounds = [(-10, 10), (-10, 10)]\n",
    "min = 1001\n",
    "i,j,k,l,m = 1,1,1,1,2\n",
    "count = 1\n",
    "while count > 0:\n",
    "    for i_i in range(3):\n",
    "        for j_j in range(3):\n",
    "            for k_k in range(3):\n",
    "                for l_l in range(3):\n",
    "                    i_area = i + i_i - 1\n",
    "                    j_area = j + j_j - 1\n",
    "                    k_area = k + k_k - 1\n",
    "                    l_area = l + l_l - 1\n",
    "                    try:\n",
    "                        dict_strategy[i_area]\n",
    "                    except:\n",
    "                        i_area = i\n",
    "                    try:\n",
    "                        dict_popsize[j_area]\n",
    "                    except:\n",
    "                        j_area = j\n",
    "                    try:\n",
    "                        dict_mutation[k_area]\n",
    "                    except:\n",
    "                        k_area = k\n",
    "                    try:\n",
    "                        dict_recombination[l_area]\n",
    "                    except:\n",
    "                        l_area = l\n",
    "                    response = differential_evolution(ackley, bounds, strategy = dict_strategy[i_area], popsize = dict_popsize[j_area], mutation = dict_mutation[k_area], recombination = dict_recombination[l_area], seed=42, updating = dict_updating[m])\n",
    "                    matrix[i_i][j_j][k_k][l_l] = response.nit\n",
    "                    if response.nit < min:\n",
    "                        i_min, j_min, k_min, l_min, min = i_area, j_area, k_area, l_area, response.nit \n",
    "    print(min, dict_strategy[i_min], dict_popsize[j_min], dict_mutation[k_min], dict_recombination[l_min], dict_updating[m])\n",
    "    print (i-i_min, j-j_min, k-k_min, l-l_min)\n",
    "    print (i, i_min, j, j_min, k, k_min, l, l_min)\n",
    "    if (i == i_min) and (j == j_min) and (l == l_min) and (k == k_min):\n",
    "        print (\"Расчет закончен\")\n",
    "        break\n",
    "    else:\n",
    "        print('Перепрошиваем')\n",
    "        i, j, k, l = i_min, j_min, k_min, l_min\n",
    "        x.append(dict_recombination[l_min])\n",
    "        y.append(min)"
   ]
  },
  {
   "cell_type": "code",
   "execution_count": 131,
   "metadata": {},
   "outputs": [
    {
     "name": "stdout",
     "output_type": "stream",
     "text": [
      "nit = 5 strategy = best1bin popsize = 11 mutation = 0.0 recombination = 0.0 seed = 42 updating = deferred\n"
     ]
    }
   ],
   "source": [
    "print (\"nit =\", min, \"strategy =\", dict_strategy[i], \"popsize =\", dict_popsize[j], \"mutation =\", dict_mutation[k], \"recombination =\", dict_recombination[l], \"seed =\", 42, \"updating =\", dict_updating[m])"
   ]
  },
  {
   "cell_type": "code",
   "execution_count": 133,
   "metadata": {},
   "outputs": [
    {
     "name": "stdout",
     "output_type": "stream",
     "text": [
      "70 currenttobest1bin 15 1.0 0.2 deferred\n",
      "-1 1 1 1\n",
      "8 9 6 5 7 6 4 3\n",
      "Перепрошиваем\n",
      "70 currenttobest1bin 15 1.0 0.2 deferred\n",
      "0 0 0 0\n",
      "9 9 5 5 6 6 3 3\n",
      "Расчет закончен\n"
     ]
    }
   ],
   "source": [
    "bounds = [(-10, 10), (-10, 10)]\n",
    "min = 1001\n",
    "i,j,k,l,m = 8,6,7,4,2\n",
    "count = 1\n",
    "while count > 0:\n",
    "    for i_i in range(3):\n",
    "        for j_j in range(3):\n",
    "            for k_k in range(3):\n",
    "                for l_l in range(3):\n",
    "                    i_area = i + i_i - 1\n",
    "                    j_area = j + j_j - 1\n",
    "                    k_area = k + k_k - 1\n",
    "                    l_area = l + l_l - 1\n",
    "                    try:\n",
    "                        dict_strategy[i_area]\n",
    "                    except:\n",
    "                        i_area = i\n",
    "                    try:\n",
    "                        dict_popsize[j_area]\n",
    "                    except:\n",
    "                        j_area = j\n",
    "                    try:\n",
    "                        dict_mutation[k_area]\n",
    "                    except:\n",
    "                        k_area = k\n",
    "                    try:\n",
    "                        dict_recombination[l_area]\n",
    "                    except:\n",
    "                        l_area = l\n",
    "                    response = differential_evolution(ackley, bounds, strategy = dict_strategy[i_area], popsize = dict_popsize[j_area], mutation = dict_mutation[k_area], recombination = dict_recombination[l_area], seed=42, updating = dict_updating[m])\n",
    "                    matrix[i_i][j_j][k_k][l_l] = response.nit\n",
    "                    if response.nit < min:\n",
    "                        i_min, j_min, k_min, l_min, min = i_area, j_area, k_area, l_area, response.nit \n",
    "    print(min, dict_strategy[i_min], dict_popsize[j_min], dict_mutation[k_min], dict_recombination[l_min], dict_updating[m])\n",
    "    print (i-i_min, j-j_min, k-k_min, l-l_min)\n",
    "    print (i, i_min, j, j_min, k, k_min, l, l_min)\n",
    "    if (i == i_min) and (j == j_min) and (l == l_min) and (k == k_min):\n",
    "        print (\"Расчет закончен\")\n",
    "        break\n",
    "    else:\n",
    "        print('Перепрошиваем')\n",
    "        i, j, k, l = i_min, j_min, k_min, l_min\n",
    "        x.append(dict_recombination[l_min])\n",
    "        y.append(min)"
   ]
  },
  {
   "cell_type": "code",
   "execution_count": 135,
   "metadata": {},
   "outputs": [
    {
     "name": "stdout",
     "output_type": "stream",
     "text": [
      "57 randtobest1bin 15 1.0 0.3 immediate\n",
      "0 1 1 0\n",
      "8 8 6 5 7 6 4 4\n",
      "Перепрошиваем\n",
      "57 randtobest1bin 15 1.0 0.3 immediate\n",
      "0 0 0 0\n",
      "8 8 5 5 6 6 4 4\n",
      "Расчет закончен\n"
     ]
    }
   ],
   "source": [
    "bounds = [(-10, 10), (-10, 10)]\n",
    "min = 1001\n",
    "i,j,k,l,m = 8,6,7,4,1\n",
    "count = 1\n",
    "while count > 0:\n",
    "    for i_i in range(3):\n",
    "        for j_j in range(3):\n",
    "            for k_k in range(3):\n",
    "                for l_l in range(3):\n",
    "                    i_area = i + i_i - 1\n",
    "                    j_area = j + j_j - 1\n",
    "                    k_area = k + k_k - 1\n",
    "                    l_area = l + l_l - 1\n",
    "                    try:\n",
    "                        dict_strategy[i_area]\n",
    "                    except:\n",
    "                        i_area = i\n",
    "                    try:\n",
    "                        dict_popsize[j_area]\n",
    "                    except:\n",
    "                        j_area = j\n",
    "                    try:\n",
    "                        dict_mutation[k_area]\n",
    "                    except:\n",
    "                        k_area = k\n",
    "                    try:\n",
    "                        dict_recombination[l_area]\n",
    "                    except:\n",
    "                        l_area = l\n",
    "                    response = differential_evolution(ackley, bounds, strategy = dict_strategy[i_area], popsize = dict_popsize[j_area], mutation = dict_mutation[k_area], recombination = dict_recombination[l_area], seed=42, updating = dict_updating[m])\n",
    "                    matrix[i_i][j_j][k_k][l_l] = response.nit\n",
    "                    if response.nit < min:\n",
    "                        i_min, j_min, k_min, l_min, min = i_area, j_area, k_area, l_area, response.nit \n",
    "    print(min, dict_strategy[i_min], dict_popsize[j_min], dict_mutation[k_min], dict_recombination[l_min], dict_updating[m])\n",
    "    print (i-i_min, j-j_min, k-k_min, l-l_min)\n",
    "    print (i, i_min, j, j_min, k, k_min, l, l_min)\n",
    "    if (i == i_min) and (j == j_min) and (l == l_min) and (k == k_min):\n",
    "        print (\"Расчет закончен\")\n",
    "        break\n",
    "    else:\n",
    "        print('Перепрошиваем')\n",
    "        i, j, k, l = i_min, j_min, k_min, l_min\n",
    "        x.append(dict_recombination[l_min])\n",
    "        y.append(min)"
   ]
  },
  {
   "cell_type": "markdown",
   "metadata": {},
   "source": [
    "**Наилучшее значение nit получено при параметрах  \n",
    "strategy = best1bin popsize = 11 mutation = 0.0 recombination = 0.0 seed = 42 updating = deferred  \n",
    "nit = 5**"
   ]
  },
  {
   "cell_type": "markdown",
   "metadata": {},
   "source": [
    "# Спасибо, было интересно"
   ]
  }
 ],
 "metadata": {
  "kernelspec": {
   "display_name": "Python 3",
   "language": "python",
   "name": "python3"
  },
  "language_info": {
   "codemirror_mode": {
    "name": "ipython",
    "version": 3
   },
   "file_extension": ".py",
   "mimetype": "text/x-python",
   "name": "python",
   "nbconvert_exporter": "python",
   "pygments_lexer": "ipython3",
   "version": "3.7.3"
  }
 },
 "nbformat": 4,
 "nbformat_minor": 4
}
