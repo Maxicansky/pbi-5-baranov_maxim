{
 "cells": [
  {
   "cell_type": "code",
   "execution_count": 14,
   "metadata": {},
   "outputs": [],
   "source": [
    "\n",
    "from datetime import datetime\n",
    "from datetime import timedelta"
   ]
  },
  {
   "cell_type": "markdown",
   "metadata": {
    "slideshow": {
     "slide_type": "notes"
    }
   },
   "source": [
    "# Задание 1\n",
    "Напишите функцию date_range, которая возвращает список дней между датами start_date и end_date. Даты должны вводиться в формате YYYY-MM-DD."
   ]
  },
  {
   "cell_type": "code",
   "execution_count": 19,
   "metadata": {},
   "outputs": [],
   "source": [
    "def date_range (start_date: str, end_date: str):\n",
    "    sd_datetime = datetime.strptime(start_date, '%Y-%m-%d')\n",
    "    ed_datetime = datetime.strptime(end_date, '%Y-%m-%d')\n",
    "    response = []\n",
    "    day = sd_datetime\n",
    "    while day <= ed_datetime:\n",
    "        response.append(datetime.strftime(day,'%Y-%m-%d'))\n",
    "        day += timedelta(days=1)\n",
    "    return response"
   ]
  },
  {
   "cell_type": "code",
   "execution_count": 15,
   "metadata": {},
   "outputs": [
    {
     "name": "stdout",
     "output_type": "stream",
     "text": [
      "17725\n"
     ]
    }
   ],
   "source": [
    "print (len(date_range('1971-02-28','2019-09-08')))"
   ]
  },
  {
   "cell_type": "code",
   "execution_count": null,
   "metadata": {},
   "outputs": [],
   "source": []
  },
  {
   "cell_type": "markdown",
   "metadata": {
    "slideshow": {
     "slide_type": "notes"
    }
   },
   "source": [
    "# Задание 2\n",
    "Дополните функцию из первого задания проверкой на корректность дат. В случае неверного формата или если start_date > end_date должен возвращаться пустой список."
   ]
  },
  {
   "cell_type": "code",
   "execution_count": 16,
   "metadata": {},
   "outputs": [],
   "source": [
    "def date_range (start_date: str, end_date: str):\n",
    "    response = []\n",
    "    try:\n",
    "        sd_datetime = datetime.strptime(start_date, '%Y-%m-%d')\n",
    "        ed_datetime = datetime.strptime(end_date, '%Y-%m-%d')\n",
    "    except:\n",
    "        print('Проблема с форматом даты или подключением библиотеки datetime')\n",
    "    else:    \n",
    "        if sd_datetime > ed_datetime:\n",
    "            print ('Конечная дата меньше начальной')\n",
    "        else:\n",
    "            day = sd_datetime\n",
    "            while day <= ed_datetime:\n",
    "                response.append(datetime.strftime(day,'%Y-%m-%d'))\n",
    "                day += timedelta(days=1)\n",
    "    return response"
   ]
  },
  {
   "cell_type": "code",
   "execution_count": 24,
   "metadata": {},
   "outputs": [
    {
     "name": "stdout",
     "output_type": "stream",
     "text": [
      "Проблема с форматом даты или подключением библиотеки datetime\n",
      "[]\n",
      "Проблема с форматом даты или подключением библиотеки datetime\n",
      "[]\n",
      "Конечная дата меньше начальной\n",
      "[]\n",
      "['2019-12-01']\n"
     ]
    }
   ],
   "source": [
    "print (date_range('2019.12.01','2019-12-01'))\n",
    "print (date_range('2019-13-01','2019-12-01'))\n",
    "print (date_range('2019-12-02','2019-12-01'))\n",
    "print (date_range('2019-12-01','2019-12-01'))"
   ]
  },
  {
   "cell_type": "markdown",
   "metadata": {
    "slideshow": {
     "slide_type": "notes"
    }
   },
   "source": [
    "# Задание 3\n",
    "Дан поток дат в формате YYYY-MM-DD, в которых встречаются некорректные значения:\n",
    "stream = [‘2018-04-02’, ‘2018-02-29’, ‘2018-19-02’].\n",
    "Напишите функцию, которая проверяет эти даты на корректность. Т. е. для каждой даты возвращает True (дата корректна) или False (некорректная дата)."
   ]
  },
  {
   "cell_type": "code",
   "execution_count": 35,
   "metadata": {},
   "outputs": [],
   "source": [
    "stream = ['2018-04-02','2018-02-29','2018-19-02']"
   ]
  },
  {
   "cell_type": "code",
   "execution_count": 36,
   "metadata": {},
   "outputs": [
    {
     "data": {
      "text/plain": [
       "{'2018-04-02': True, '2018-02-29': False, '2018-19-02': False}"
      ]
     },
     "execution_count": 36,
     "metadata": {},
     "output_type": "execute_result"
    }
   ],
   "source": [
    " def correctly (stream: list):\n",
    "    dict = {}\n",
    "    for date in stream:\n",
    "        try:\n",
    "            datetime.strptime(date,'%Y-%m-%d')\n",
    "            dict[date] = True\n",
    "        except:\n",
    "            dict[date] = False\n",
    "    return dict\n",
    "correctly (stream)"
   ]
  },
  {
   "cell_type": "markdown",
   "metadata": {
    "slideshow": {
     "slide_type": "notes"
    }
   },
   "source": [
    "# Задание 4\n",
    "В последнем примере поиска по словарю мы использовали 3 столбца. Напишите функцию, которая формирует словарь для поиска по n столбцам."
   ]
  },
  {
   "cell_type": "code",
   "execution_count": 12,
   "metadata": {},
   "outputs": [
    {
     "data": {
      "text/plain": [
       "9934"
      ]
     },
     "execution_count": 12,
     "metadata": {},
     "output_type": "execute_result"
    }
   ],
   "source": [
    "def file_to_dict (file, n):\n",
    "    stats_dict = {}\n",
    "    with open(file) as f:\n",
    "        for line in f:\n",
    "            line = line.strip().split(',')\n",
    "            stats_dict[tuple(line[:n])] = line[-1]\n",
    "    return stats_dict\n",
    "check = file_to_dict ('stats.csv',2)\n",
    "len(check)"
   ]
  },
  {
   "cell_type": "code",
   "execution_count": null,
   "metadata": {},
   "outputs": [],
   "source": []
  }
 ],
 "metadata": {
  "kernelspec": {
   "display_name": "Python 3",
   "language": "python",
   "name": "python3"
  },
  "language_info": {
   "codemirror_mode": {
    "name": "ipython",
    "version": 3
   },
   "file_extension": ".py",
   "mimetype": "text/x-python",
   "name": "python",
   "nbconvert_exporter": "python",
   "pygments_lexer": "ipython3",
   "version": "3.7.3"
  }
 },
 "nbformat": 4,
 "nbformat_minor": 4
}
