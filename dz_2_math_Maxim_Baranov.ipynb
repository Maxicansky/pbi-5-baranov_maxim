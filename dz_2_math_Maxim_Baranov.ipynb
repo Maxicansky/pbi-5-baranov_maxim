{
 "cells": [
  {
   "cell_type": "markdown",
   "metadata": {
    "colab_type": "text",
    "id": "hTHl3kyDWIGO"
   },
   "source": [
    "# Математики для data science.\n",
    "# Домашнее задание 2."
   ]
  },
  {
   "cell_type": "code",
   "execution_count": 1,
   "metadata": {},
   "outputs": [],
   "source": [
    "import numpy as np\n",
    "import matplotlib.pyplot as plt\n",
    "import pandas as pd\n",
    "%matplotlib inline"
   ]
  },
  {
   "cell_type": "markdown",
   "metadata": {
    "colab_type": "text",
    "id": "OAJG6826Pnft"
   },
   "source": [
    "**Задание на отображение множеств.**"
   ]
  },
  {
   "cell_type": "markdown",
   "metadata": {
    "colab_type": "text",
    "id": "lHtJSvE3Pt9i"
   },
   "source": [
    "**Задание 1.**"
   ]
  },
  {
   "cell_type": "markdown",
   "metadata": {
    "colab_type": "text",
    "id": "pRTF1ROCPxoR"
   },
   "source": [
    "Написать функцию отображения элементов одного множества в другое. Первое множество - художники, второе множество - картины художников.\n",
    "Множество художников - Серов, Левитан, Репин, Васнецов, Шишкин. \n",
    "Множество картин - \"Утро в сосновом бору\", \"Богатыри\", \"Золотая осень\", \"Девочка с персиками\", \"Запорожцы\", \"Бурлаки на Волге\", \"Март\", \"Алёнушка\". \n"
   ]
  },
  {
   "cell_type": "code",
   "execution_count": 2,
   "metadata": {},
   "outputs": [],
   "source": [
    "artists = set(['Серов', 'Левитан', 'Репин', 'Васнецов', 'Шишкин'])"
   ]
  },
  {
   "cell_type": "code",
   "execution_count": 3,
   "metadata": {},
   "outputs": [],
   "source": [
    "dict_artists = dict()\n",
    "dict_artists['Серов'] = ['Девочка с персиками']\n",
    "dict_artists['Левитан'] = ['Золотая осень', 'Март']\n",
    "dict_artists['Репин'] = ['Запорожцы', 'Бурлаки на Волге']\n",
    "dict_artists['Васнецов'] = ['Богатыри', 'Аленушка']\n",
    "dict_artists['Шишкин'] = ['Утро в сосновом бору']"
   ]
  },
  {
   "cell_type": "code",
   "execution_count": 4,
   "metadata": {},
   "outputs": [
    {
     "name": "stdout",
     "output_type": "stream",
     "text": [
      "Шишкин: Утро в сосновом бору.\n",
      "Репин: Запорожцы, Бурлаки на Волге.\n",
      "Васнецов: Богатыри, Аленушка.\n",
      "Серов: Девочка с персиками.\n",
      "Левитан: Золотая осень, Март.\n"
     ]
    }
   ],
   "source": [
    "for artist in artists:\n",
    "  pictures = ''\n",
    "  for picture in dict_artists[artist]:\n",
    "    pictures += picture + ', '\n",
    "  pictures = pictures[0:-2] + '.'\n",
    "  print(artist + ': '+ pictures)"
   ]
  },
  {
   "cell_type": "markdown",
   "metadata": {
    "colab_type": "text",
    "id": "4QwS5m7CWXY3"
   },
   "source": [
    "**Полиномиальные функции.**"
   ]
  },
  {
   "cell_type": "markdown",
   "metadata": {
    "colab_type": "text",
    "id": "thQjcSL7WbIY"
   },
   "source": [
    "**Задание 2**. Найти из следующих функций те, которые являются полиномиальной функцией."
   ]
  },
  {
   "cell_type": "markdown",
   "metadata": {
    "colab_type": "text",
    "id": "GbDQjj-pWjqm"
   },
   "source": [
    "*  $$f(x)=\\frac{1}{2}x^{6}-1\\frac{5}{6}x+\\frac{1}{3}$$\n",
    "*  $$f(x)=\\frac{3x^{6}-11x+2}{6}$$\n",
    "*  $$f(x)=\\frac{3x^{6}-11x+2}{6x}$$\n",
    "*  $$f(x)=x^{5}-3x^{2}+7x^{-2}$$\n",
    "*  $$f(x)=(5x^{2}-2)^3-\\frac{1}{2}x^{3}$$\n",
    "*  $$f(x)=(1+\\sqrt{x})^{3}-5(1+\\sqrt{x})$$\n",
    "*  $$f(x)=\\pi $$\n",
    "\n"
   ]
  },
  {
   "cell_type": "markdown",
   "metadata": {},
   "source": [
    "**Выделим полиномы**\n",
    "\n",
    "*  Полином 6-го порядка $$f(x)=\\frac{1}{2}x^{6}-1\\frac{5}{6}x+\\frac{1}{3}$$\n",
    "   \n",
    "*  Полином 6-го порядка $$f(x)=\\frac{3x^{6}-11x+2}{6}$$ \n",
    "   \n",
    "*  Полином 6-го порядка $$f(x)=(5x^{2}-2)^3-\\frac{1}{2}x^{3}$$ \n",
    "  \n",
    "*  Полином 0-го порядка $$f(x)=\\pi $$ \n",
    "   "
   ]
  },
  {
   "cell_type": "markdown",
   "metadata": {
    "colab_type": "text",
    "id": "2SOZDLZQW9vK"
   },
   "source": [
    "**Задание 3**. Раскрыть скобки для следующего полинома $$(2x+1)^{2}(x-1)-x(4x^{2}-1)-x(4x^{2}-1)=ax^3+bx^2+cx+d$$ найти коэффициенты для a, b, c, d."
   ]
  },
  {
   "cell_type": "markdown",
   "metadata": {
    "colab_type": "text",
    "id": "FW0p4xjzIdRZ"
   },
   "source": [
    "Для данного задания полезно использовать следующие формулы сокращенного умножения:\n",
    "![alt text](https://sun9-38.userapi.com/c851232/v851232044/19c5b0/7Yy6qz-MUHA.jpg)"
   ]
  },
  {
   "cell_type": "markdown",
   "metadata": {},
   "source": [
    "$$-{4}x^{3}-x-1$$"
   ]
  },
  {
   "cell_type": "markdown",
   "metadata": {},
   "source": [
    "a = -4  \n",
    "b = 0  \n",
    "c = -1  \n",
    "d = -1  "
   ]
  },
  {
   "cell_type": "markdown",
   "metadata": {
    "colab_type": "text",
    "id": "hETFA0bzXYdw"
   },
   "source": [
    "Чему равна степень полинома?"
   ]
  },
  {
   "cell_type": "markdown",
   "metadata": {},
   "source": [
    "Полином 3-ей степени"
   ]
  },
  {
   "cell_type": "markdown",
   "metadata": {
    "colab_type": "text",
    "id": "EH8FFbsvt64f"
   },
   "source": [
    "Нарисовать график для полинома."
   ]
  },
  {
   "cell_type": "code",
   "execution_count": 5,
   "metadata": {
    "colab": {},
    "colab_type": "code",
    "id": "wk89rocGSoYC"
   },
   "outputs": [
    {
     "data": {
      "image/png": "[encoded data removed]",
      "text/plain": [
       "<Figure size 432x288 with 1 Axes>"
      ]
     },
     "metadata": {
      "needs_background": "light"
     },
     "output_type": "display_data"
    }
   ],
   "source": [
    "def func(x):\n",
    "  return -4*x**3-x-1\n",
    "  \n",
    "# создаем вектор x\n",
    "x1 = np.linspace(-3.0, 3.0, 100)\n",
    "# на основе вектора x строим значения для вектора y\n",
    "y1 = [func(x1[i]) for i in range(len(x1))]\n",
    "\n",
    "plt.plot(x1, y1)\n",
    "plt.title('График функции')\n",
    "plt.ylabel('y')\n",
    "plt.xlabel('x')\n",
    "\n",
    "plt.show()"
   ]
  },
  {
   "cell_type": "markdown",
   "metadata": {},
   "source": [
    "Проверим себя"
   ]
  },
  {
   "cell_type": "code",
   "execution_count": 6,
   "metadata": {},
   "outputs": [
    {
     "data": {
      "image/png": "[encoded data removed]",
      "text/plain": [
       "<Figure size 432x288 with 1 Axes>"
      ]
     },
     "metadata": {
      "needs_background": "light"
     },
     "output_type": "display_data"
    }
   ],
   "source": [
    "# Проверка\n",
    "def func(x):\n",
    "  return (2*x+1)**2*(x-1)-x*(4*x**2-1)-x*(4*x**2-1)\n",
    "  \n",
    "# создаем вектор x\n",
    "x1 = np.linspace(-3.0, 3.0, 100)\n",
    "# на основе вектора x строим значения для вектора y\n",
    "y1 = [func(x1[i]) for i in range(len(x1))]\n",
    "\n",
    "plt.plot(x1, y1)\n",
    "plt.title('График функции')\n",
    "plt.ylabel('y')\n",
    "plt.xlabel('x')\n",
    "\n",
    "plt.show()"
   ]
  },
  {
   "cell_type": "markdown",
   "metadata": {
    "colab_type": "text",
    "id": "YnGld7mvZNUB"
   },
   "source": [
    "**Задание 3**.\n",
    "Для заданных функций найти подходящий график (не все функции имеют график):\n",
    "$\\frac{3}{4}x-1$,  $\\frac{3}{4}x+2$, $2-2x$, $2+2x$, $\\frac{1}{4}(x+1)^{2}-2 $, $\\frac{1}{4}(x-1)^2-2$, $(x-1)(x-3)$, $(x+1)(x+3)$, $2-x^2$, $2-\\frac{1}{4}x^2$"
   ]
  },
  {
   "cell_type": "markdown",
   "metadata": {
    "colab_type": "text",
    "id": "8TCnR4urZX_A"
   },
   "source": [
    "![alt text](https://pp.userapi.com/c855532/v855532908/aadd4/uWjIZGDfw0s.jpg)"
   ]
  },
  {
   "cell_type": "markdown",
   "metadata": {},
   "source": [
    "При решении данной задачи будем предполагать, что оси указаны в одинаковом масштабе."
   ]
  },
  {
   "cell_type": "markdown",
   "metadata": {},
   "source": [
    "Для начала проведем теоретический анализ функций"
   ]
  },
  {
   "cell_type": "markdown",
   "metadata": {},
   "source": [
    "$\\frac{3}{4}x-1$ Прямая. График возрастающий. При x=0, y=-1. При y=0, x=4/3. Соответствует 2-ой график нижнего ряда.  \n",
    "$\\frac{3}{4}x+2$ Прямая. График возрастающий. При x=0, y=2. При y=0, $x=-2\\frac{2}{3}$. Соответствующего графика нет.  \n",
    "$2-2x$ Прямая. График убывающий. При x=0, y=2. При y=0, x=1. Первый график в верхнем ряду похож.  \n",
    "$2+2x$ Прямая. График возрастающий. При x=0, y=2. При y=0, x=-1. Соответствующего графика нет.   \n",
    "$\\frac{1}{4}(x+1)^{2}-2$ Парабола. Ветви направлены вверх. Вершина расположена в точке x=-1, y=-2. Похож первый график в нижнем ряду.  \n",
    "$\\frac{1}{4}(x-1)^2-2$ Парабола. Ветви направлены вверх. Вершина расположена в точке x=1, y=-2. Графика нет.   \n",
    "$(x-1)(x-3)$ Парабола. Ветви направлены вверх. Вершина расположена в точке x=2, y=-1. Третий график нижний ряд.   \n",
    "$(x+1)(x+3)$ Парабола. Ветви направлены вверх. Вершина расположена в точке x=-2, y=-1. Графика нет.   \n",
    "$2-x^2$ Парабола. Ветви направлены вниз. Вершина расположена в точке x=0, y=2. Третий график, верхний ряд.   \n",
    "$2-\\frac{1}{4}x^2$ Парабола. Ветви направлены вниз. Вершина расположена в точке x=0, y=2. Второй график график, верхний ряд.  \n",
    "(Ветви параболы шире, чем у предыдущего графика, т.к. абсолютное значение коэффициента при x у рассматриваемого графика меньше)"
   ]
  },
  {
   "cell_type": "markdown",
   "metadata": {},
   "source": [
    "Теперь посторим соответсвующие графики. Воспользуемся материалами лекции."
   ]
  },
  {
   "cell_type": "code",
   "execution_count": 7,
   "metadata": {},
   "outputs": [],
   "source": [
    "def polynom_(x, a, b, c):\n",
    "  y = a*x*x + b*x + c\n",
    "  return y"
   ]
  },
  {
   "cell_type": "code",
   "execution_count": 8,
   "metadata": {},
   "outputs": [],
   "source": [
    "x1 = np.linspace(-4, 4, 100)\n",
    "y1 = [polynom_(x1[i], 0, 3/4, -1) for i in range(len(x1))]\n",
    "y2 = [polynom_(x1[i], 0, 3/4, 2) for i in range(len(x1))]\n",
    "y3 = [polynom_(x1[i], 0, -2, 2) for i in range(len(x1))]\n",
    "y4 = [polynom_(x1[i], 0, 2, 2) for i in range(len(x1))]\n",
    "y5 = [polynom_(x1[i], 1/4, 1/2, -3/4) for i in range(len(x1))]\n",
    "y6 = [polynom_(x1[i], 1/4, -1/2, -3/4) for i in range(len(x1))]\n",
    "y7 = [polynom_(x1[i], 1, -4, 3) for i in range(len(x1))]\n",
    "y8 = [polynom_(x1[i], 1, 4, 3) for i in range(len(x1))]\n",
    "y9 = [polynom_(x1[i], -1, 0, 2) for i in range(len(x1))]\n",
    "y10 = [polynom_(x1[i], -1/4, 0, 2) for i in range(len(x1))]"
   ]
  },
  {
   "cell_type": "code",
   "execution_count": 27,
   "metadata": {},
   "outputs": [
    {
     "data": {
      "image/png": "[encoded data removed]",
      "text/plain": [
       "<Figure size 864x576 with 6 Axes>"
      ]
     },
     "metadata": {
      "needs_background": "light"
     },
     "output_type": "display_data"
    }
   ],
   "source": [
    "plt.figure(figsize=(12, 8))\n",
    "\n",
    "plt.subplot(2,3,5)\n",
    "plt.plot(x1,y1)\n",
    "plt.axvline(0, color='r')\n",
    "plt.axhline(0, color='r')\n",
    "plt.ylim(-4, 4)\n",
    "plt.xlim(-4, 4)\n",
    "plt.title('b = 1/4, c = -1')\n",
    "\n",
    "plt.subplot(2,3,1)\n",
    "plt.plot(x1,y3)\n",
    "plt.ylim(-4, 4)\n",
    "plt.xlim(-4, 4)\n",
    "plt.axvline(0, color='r')\n",
    "plt.axhline(0, color='r')\n",
    "plt.title('b = -2, c = 2')\n",
    "\n",
    "plt.subplot(2,3,4)\n",
    "plt.plot(x1,y5)\n",
    "plt.ylim(-4, 4)\n",
    "plt.xlim(-4, 4)\n",
    "plt.axvline(0, color='r')\n",
    "plt.axhline(0, color='r')\n",
    "plt.title('a = 1/4, b = 1/2, -3/4')\n",
    "\n",
    "plt.subplot(2,3,6)\n",
    "plt.plot(x1,y7)\n",
    "plt.ylim(-4, 4)\n",
    "plt.xlim(-4, 4)\n",
    "plt.axvline(0, color='r')\n",
    "plt.axhline(0, color='r')\n",
    "plt.title('a = 1, b = -4, c = 3')\n",
    "\n",
    "plt.subplot(2,3,3)\n",
    "plt.plot(x1,y9)\n",
    "plt.ylim(-4, 4)\n",
    "plt.xlim(-4, 4)\n",
    "plt.axvline(0, color='r')\n",
    "plt.axhline(0, color='r')\n",
    "plt.title('a=-1, c = 2')\n",
    "\n",
    "plt.subplot(2,3,2)\n",
    "plt.plot(x1,y10)\n",
    "plt.ylim(-4, 4)\n",
    "plt.xlim(-4, 4)\n",
    "plt.axvline(0, color='r')\n",
    "plt.axhline(0, color='r')\n",
    "plt.title('a = -1/4, c = 2')\n",
    "\n",
    "plt.suptitle('Графики типа ax^2 + bx + c = y')\n",
    "plt.show()"
   ]
  },
  {
   "cell_type": "markdown",
   "metadata": {},
   "source": [
    "![alt text](https://pp.userapi.com/c855532/v855532908/aadd4/uWjIZGDfw0s.jpg)"
   ]
  },
  {
   "cell_type": "markdown",
   "metadata": {},
   "source": [
    "Теоретические выкладки подтверждены практикой))  \n",
    "Чтобы закрепить новые навыки, отдельно выведем оставшиеся полиномы  "
   ]
  },
  {
   "cell_type": "code",
   "execution_count": 29,
   "metadata": {},
   "outputs": [
    {
     "data": {
      "image/png": "[encoded data removed]",
      "text/plain": [
       "<Figure size 576x576 with 4 Axes>"
      ]
     },
     "metadata": {
      "needs_background": "light"
     },
     "output_type": "display_data"
    }
   ],
   "source": [
    "plt.figure(figsize=(8, 8))\n",
    "\n",
    "plt.subplot(2,2,1)\n",
    "plt.plot(x1,y2)\n",
    "plt.ylim(-4, 4)\n",
    "plt.xlim(-4, 4)\n",
    "plt.axvline(0, color='r')\n",
    "plt.axhline(0, color='r')\n",
    "plt.title('b=3/4, c=2')\n",
    "\n",
    "plt.subplot(2,2,2)\n",
    "plt.plot(x1,y4)\n",
    "plt.ylim(-4, 4)\n",
    "plt.xlim(-4, 4)\n",
    "plt.axvline(0, color='r')\n",
    "plt.axhline(0, color='r')\n",
    "plt.title('b=2, c=2')\n",
    "\n",
    "plt.subplot(2,2,3)\n",
    "plt.plot(x1,y6)\n",
    "plt.ylim(-4, 4)\n",
    "plt.xlim(-4, 4)\n",
    "plt.axvline(0, color='r')\n",
    "plt.axhline(0, color='r')\n",
    "plt.title('a=1/4, b=-1/2, c=-3/4')\n",
    "\n",
    "plt.subplot(2,2,4)\n",
    "plt.plot(x1,y8)\n",
    "plt.ylim(-4, 4)\n",
    "plt.xlim(-4, 4)\n",
    "plt.axvline(0, color='r')\n",
    "plt.axhline(0, color='r')\n",
    "plt.title('a=1, b=4, c=3')\n",
    "\n",
    "plt.suptitle('Графики типа ax^2 + bx + c = y')\n",
    "plt.show()"
   ]
  },
  {
   "cell_type": "markdown",
   "metadata": {
    "colab_type": "text",
    "id": "v4PsJSrlbGni"
   },
   "source": [
    "**Задание 4.** Найти минимальную степень следующего полинома:\n",
    "\n",
    "![alt text](https://pp.userapi.com/c855532/v855532908/aadcd/PZdPYTQT02A.jpg)"
   ]
  },
  {
   "cell_type": "markdown",
   "metadata": {},
   "source": [
    "Вероятно данная кривая описывается полиномом  5-го порядка, т.к. кривая содержит 4-е экстремума.  \n",
    "Условие - отсутствие вырожденных экстремумом и экстремумов за пределами графика. "
   ]
  },
  {
   "cell_type": "markdown",
   "metadata": {
    "colab_type": "text",
    "id": "In-LISkBGJ1u"
   },
   "source": [
    "**Задания повышенного уровня**"
   ]
  },
  {
   "cell_type": "markdown",
   "metadata": {
    "colab_type": "text",
    "id": "FGmhJtvceZO6"
   },
   "source": [
    "**Почему следующие функции не являются полиномиальными?**\n",
    "$$y=5x^{-2}+1$$\n",
    "$$y=3x^{1/2}+2$$\n",
    "$$y=(5x+1)/(3x)$$"
   ]
  },
  {
   "cell_type": "markdown",
   "metadata": {},
   "source": [
    "По определению полинома степень в которую возводится x должна быть целым неотрицательным числом.   \n",
    "В первом примере степень -2 - отрицательное число.  \n",
    "Во втором примере степень $\\frac{1}{2}$ - не целое число.  \n",
    "В третьем примере при раскрытии скобок мы получим слагаемое содержащее x в -1 степени - отрицательное число.\n",
    "Сдедовательно, предлагаемые к рассмотрению функции не являются полиномами."
   ]
  },
  {
   "cell_type": "markdown",
   "metadata": {
    "colab_type": "text",
    "id": "XyzbTtgEezLl"
   },
   "source": [
    "**Найдите наибольшее и наименьшее значение функции $y = x^3 + 2x^2 + x + 3 $ на отрезке [-4;-1].**"
   ]
  },
  {
   "cell_type": "markdown",
   "metadata": {},
   "source": [
    "Первый вариант"
   ]
  },
  {
   "cell_type": "markdown",
   "metadata": {},
   "source": [
    "Найдем производную"
   ]
  },
  {
   "cell_type": "code",
   "execution_count": 44,
   "metadata": {},
   "outputs": [
    {
     "data": {
      "text/latex": [
       "$\\displaystyle 3 x^{2} + 4 x + 1$"
      ],
      "text/plain": [
       "3*x**2 + 4*x + 1"
      ]
     },
     "execution_count": 44,
     "metadata": {},
     "output_type": "execute_result"
    }
   ],
   "source": [
    "from sympy import diff, symbols\n",
    "x, y = symbols('x y')\n",
    "diff(x**3+2*x**2+x+3)"
   ]
  },
  {
   "cell_type": "markdown",
   "metadata": {},
   "source": [
    "Найдем корни производной"
   ]
  },
  {
   "cell_type": "code",
   "execution_count": 39,
   "metadata": {},
   "outputs": [
    {
     "data": {
      "text/plain": [
       "array([-1.        , -0.33333333])"
      ]
     },
     "execution_count": 39,
     "metadata": {},
     "output_type": "execute_result"
    }
   ],
   "source": [
    "from numpy import roots\n",
    "polinom = [3, 4, 1]\n",
    "roots(polinom)"
   ]
  },
  {
   "cell_type": "markdown",
   "metadata": {},
   "source": [
    "Только одно значение экстремума попадает на указанный отрезок -1. Это x=-1. Следовательно значения на концах отрезка будут давать минимум и максимум."
   ]
  },
  {
   "cell_type": "code",
   "execution_count": 41,
   "metadata": {},
   "outputs": [
    {
     "data": {
      "text/plain": [
       "-33"
      ]
     },
     "execution_count": 41,
     "metadata": {},
     "output_type": "execute_result"
    }
   ],
   "source": [
    "x=-4\n",
    "x**3+2*x**2+x+3"
   ]
  },
  {
   "cell_type": "code",
   "execution_count": 42,
   "metadata": {},
   "outputs": [
    {
     "data": {
      "text/plain": [
       "3"
      ]
     },
     "execution_count": 42,
     "metadata": {},
     "output_type": "execute_result"
    }
   ],
   "source": [
    "x=-1\n",
    "x**3+2*x**2+x+3"
   ]
  },
  {
   "cell_type": "markdown",
   "metadata": {},
   "source": [
    "Ответ: минимум (-4,-33), максимум (-1,3)"
   ]
  },
  {
   "cell_type": "markdown",
   "metadata": {},
   "source": [
    "Второй вариант"
   ]
  },
  {
   "cell_type": "code",
   "execution_count": 54,
   "metadata": {},
   "outputs": [
    {
     "name": "stdout",
     "output_type": "stream",
     "text": [
      "x значение, при котором y минимально:  -4.0\n",
      "минимальное значение функции:  -33.0\n",
      "x значение, при котором y максимально:  -1.0\n",
      "максимальное значение функции:  3.0\n"
     ]
    }
   ],
   "source": [
    "x = np.linspace(-4.0, -1.0, 100)\n",
    "y = [x[i]**3 + 2*x[i]**2 + x[i] + 3 for i in range(len(x))]\n",
    "min_x = np.argmin(y)\n",
    "print('x значение, при котором y минимально: ', x[min_x])\n",
    "min_y = min(y)\n",
    "print('минимальное значение функции: ', y[min_x])\n",
    "max_x = np.argmax(y)\n",
    "print('x значение, при котором y максимально: ', x[max_x])\n",
    "print('максимальное значение функции: ', y[max_x])"
   ]
  },
  {
   "cell_type": "markdown",
   "metadata": {
    "colab_type": "text",
    "id": "zZwKoyIwf4SV"
   },
   "source": [
    "**Пример линейной регрессии - это применение полиномов на практике. В следующем примере дан датасет x, y, сгенерированный рандомно. Мы можем использовать линейную регрессию, чтобы предсказать значение переменной y от x.**"
   ]
  },
  {
   "cell_type": "code",
   "execution_count": 56,
   "metadata": {
    "colab": {
     "base_uri": "https://localhost:8080/",
     "height": 269
    },
    "colab_type": "code",
    "id": "wyWYYrGnWHVk",
    "outputId": "85df8263-3022-4a15-8a64-204ec3ec56a6"
   },
   "outputs": [],
   "source": [
    "import numpy as np\n",
    "import matplotlib.pyplot as plt\n",
    "\n",
    "from sklearn.linear_model import LinearRegression\n",
    "\n",
    "np.random.seed(0)\n",
    "x = 2 - 3 * np.random.normal(0, 1, 20)\n",
    "y = x - 2 * (x ** 2) + 0.5 * (x ** 3) + np.random.normal(-3, 3, 20)\n",
    "\n",
    "# transforming the data to include another axis\n",
    "x = x[:, np.newaxis]\n",
    "y = y[:, np.newaxis]\n",
    "\n",
    "model = LinearRegression()\n",
    "# написать линейную регрессию"
   ]
  },
  {
   "cell_type": "code",
   "execution_count": 59,
   "metadata": {},
   "outputs": [
    {
     "data": {
      "image/png": "[encoded data removed]",
      "text/plain": [
       "<Figure size 432x288 with 1 Axes>"
      ]
     },
     "metadata": {
      "needs_background": "light"
     },
     "output_type": "display_data"
    }
   ],
   "source": [
    "plt.scatter(x, y, marker='o')\n",
    "plt.title('LSTAT')\n",
    "plt.xlabel('LSTAT')\n",
    "plt.ylabel('MEDV')\n",
    "plt.legend(['исходные данные', 'полином 2ой степени'])\n",
    "plt.show()"
   ]
  },
  {
   "cell_type": "markdown",
   "metadata": {
    "colab_type": "text",
    "id": "_jdDSF1KhGCA"
   },
   "source": [
    "В данном примере найден полином первой степени. Как можно улучшить данную модель? Написать пример. "
   ]
  },
  {
   "cell_type": "markdown",
   "metadata": {},
   "source": [
    "Похоже на кубическую функцию. Иначе говоря полином третьей степени."
   ]
  },
  {
   "cell_type": "code",
   "execution_count": 57,
   "metadata": {},
   "outputs": [],
   "source": [
    "from sklearn.preprocessing import PolynomialFeatures \n",
    "  \n",
    "poly = PolynomialFeatures(degree = 3) \n",
    "X_poly = poly.fit_transform(x) \n",
    "  \n",
    "poly.fit(X_poly, y) \n",
    "lin2 = LinearRegression()\n",
    "model = lin2.fit(X_poly, y) "
   ]
  },
  {
   "cell_type": "code",
   "execution_count": 58,
   "metadata": {},
   "outputs": [
    {
     "data": {
      "image/png": "[encoded data removed]",
      "text/plain": [
       "<Figure size 432x288 with 1 Axes>"
      ]
     },
     "metadata": {
      "needs_background": "light"
     },
     "output_type": "display_data"
    }
   ],
   "source": [
    "y_pred = model.predict(poly.fit_transform(x))\n",
    "plt.scatter(x, y, marker='o')\n",
    "plt.scatter(x, y_pred, marker='x')\n",
    "plt.title('LSTAT')\n",
    "plt.xlabel('LSTAT')\n",
    "plt.ylabel('MEDV')\n",
    "plt.legend(['исходные данные', 'полином 2ой степени'])\n",
    "plt.show()"
   ]
  },
  {
   "cell_type": "markdown",
   "metadata": {},
   "source": [
    "Идеально!"
   ]
  },
  {
   "cell_type": "markdown",
   "metadata": {},
   "source": [
    "# Спасибо, было интересно!"
   ]
  }
 ],
 "metadata": {
  "colab": {
   "include_colab_link": true,
   "name": "Untitled2.ipynb",
   "provenance": []
  },
  "kernelspec": {
   "display_name": "Python 3",
   "language": "python",
   "name": "python3"
  },
  "language_info": {
   "codemirror_mode": {
    "name": "ipython",
    "version": 3
   },
   "file_extension": ".py",
   "mimetype": "text/x-python",
   "name": "python",
   "nbconvert_exporter": "python",
   "pygments_lexer": "ipython3",
   "version": "3.7.3"
  }
 },
 "nbformat": 4,
 "nbformat_minor": 4
}
