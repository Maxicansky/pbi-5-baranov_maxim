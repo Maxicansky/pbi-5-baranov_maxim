{
 "cells": [
  {
   "cell_type": "markdown",
   "metadata": {},
   "source": [
    "**Задание 1**. Даны 2 строки: *long_phrase* и *short_phrase*. \n",
    "Напишите код, который проверяет действительно ли длинная фраза *long_phrase* длиннее короткой *short_phrase*. И выводит *True* или *False* в зависимости от результата сравнения."
   ]
  },
  {
   "cell_type": "code",
   "execution_count": 2,
   "metadata": {},
   "outputs": [
    {
     "name": "stdout",
     "output_type": "stream",
     "text": [
      "long_phrase длинее, чем short_phrase на 1 символовов\n",
      "Результат:  True\n"
     ]
    }
   ],
   "source": [
    "long_phrase = 'Насколько проще было бы писать программы, если бы не заказчики'\n",
    "short_phrase = '640Кб должно хватить для любых задач. Билл Гейтс (по легенде)'\n",
    "if len(long_phrase)>len(short_phrase):\n",
    "    print('long_phrase длинее, чем short_phrase на', len(long_phrase)-len(short_phrase),'символовов')\n",
    "    print('Результат: ',len(long_phrase)>len(short_phrase))\n",
    "else: \n",
    "    print('long_phrase короче, чем short_phrase на', len(short_phrase)-len(long_phrase),'символовов')\n",
    "    print('Результат: ',len(long_phrase)>len(short_phrase))        "
   ]
  },
  {
   "cell_type": "markdown",
   "metadata": {},
   "source": [
    "**Задание 2**. Дано значение объема файла в байтах. Напишите перевод этого значения в мегабайты в формате: \"*Объем файла равен 213.68Mb*\""
   ]
  },
  {
   "cell_type": "code",
   "execution_count": 4,
   "metadata": {},
   "outputs": [
    {
     "name": "stdin",
     "output_type": "stream",
     "text": [
      "Введите размер файла в байтах 56\n"
     ]
    },
    {
     "name": "stdout",
     "output_type": "stream",
     "text": [
      "Объем файла равен  0 Mb  56 byte\n"
     ]
    }
   ],
   "source": [
    "fileSize=int(input('Введите размер файла в байтах'))\n",
    "residue=fileSize%1024\n",
    "fileSize//=1024\n",
    "print('Объем файла равен ',fileSize,'Mb ',residue,'byte')"
   ]
  },
  {
   "cell_type": "markdown",
   "metadata": {},
   "source": [
    "**Задание 3**. Разработать приложение для определения знака зодиака по дате рождения. Пример:\n",
    "\n",
    "Введите месяц: март\n",
    "\n",
    "Введите число: 6\n",
    "\n",
    "Вывод:\n",
    "Рыбы"
   ]
  },
  {
   "cell_type": "code",
   "execution_count": null,
   "metadata": {},
   "outputs": [],
   "source": [
    "    month=input('Введите название месяца одним словом:')\n",
    "    day=int(input('Введите день числом:'))\n",
    "    if month.lower() == 'январь':\n",
    "        if day < 21:\n",
    "            result = \"Поздравляю, Вы Козерог!\"\n",
    "        if day >= 21 and day < 32:\n",
    "            result = \"Поздравляю, Вы Водолей!\"\n",
    "        else: \n",
    "            result = \"Ошибка ввода даты\" \n",
    "    elif month.lower() == 'февраль':\n",
    "        if day < 20:\n",
    "            result = \"Поздравляю, Вы Водолей!\"\n",
    "        if day >= 20 and day < 29:\n",
    "            result = \"Поздравляю, Вы Рыбы!\"\n",
    "        else: \n",
    "            result = \"Ошибка ввода даты\" \n",
    "    elif month.lower() == 'март':\n",
    "        if day < 21:\n",
    "            result = \"Поздравляю, Вы Рыбы!\"\n",
    "        if day >= 21 and day < 32:\n",
    "            result = \"Поздравляю, Вы Овен!\"\n",
    "        else: \n",
    "            result = \"Ошибка ввода даты\" \n",
    "    elif month.lower() == 'апрель':\n",
    "        if day < 21:\n",
    "            result = \"Поздравляю, Вы Овен!\"\n",
    "        if day >= 21 and day < 31:\n",
    "            result = \"Поздравляю, Вы Телец!\"\n",
    "        else: \n",
    "            result = \"Ошибка ввода даты\" \n",
    "    elif month.lower() == 'май':\n",
    "        if day < 22:\n",
    "            result = \"Поздравляю, Вы Телец!\"\n",
    "        if day >= 22 and day < 32:\n",
    "            result = \"Поздравляю, Вы Близнецы!\"\n",
    "        else: \n",
    "            result = \"Ошибка ввода даты\" \n",
    "    elif month.lower() == 'июнь':\n",
    "        if day < 22:\n",
    "            result = \"Поздравляю, Вы Близнецы!\"\n",
    "        if day >= 22 and day < 31:\n",
    "            result = \"Поздравляю, Вы Рак!\"\n",
    "        else: \n",
    "            result = \"Ошибка ввода даты\" \n",
    "    elif month.lower() == 'июль':\n",
    "        if day < 23:\n",
    "            result = \"Поздравляю, Вы Рак!\"\n",
    "        if day >= 23 and day < 32:\n",
    "            result = \"Поздравляю, Вы Лев!\"\n",
    "        else: \n",
    "            result = \"Ошибка ввода даты\" \n",
    "    elif month.lower() == 'август':\n",
    "        if day < 24:\n",
    "            result = \"Поздравляю, Вы Лев!\"\n",
    "        if day >= 24 and day < 32:\n",
    "            result = \"Поздравляю, Вы Дева!\"\n",
    "        else: \n",
    "            result = \"Ошибка ввода даты\" \n",
    "    elif month.lower() == 'сентябрь':\n",
    "        if day < 24:\n",
    "            result = \"Поздравляю, Вы Дева!\"\n",
    "        if day >= 24 and day < 31:\n",
    "            result = \"Поздравляю, Вы Весы!\"\n",
    "        else: \n",
    "            result = \"Ошибка ввода даты\" \n",
    "    elif month.lower() == 'октябрь':\n",
    "        if day < 24:\n",
    "            result = \"Поздравляю, Вы Весы!\"\n",
    "        if day >= 24 and day < 32:\n",
    "            result = \"Поздравляю, Вы Скорпион!\"\n",
    "        else: \n",
    "            result = \"Ошибка ввода даты\" \n",
    "    elif month.lower() == 'ноябрь':\n",
    "        if day < 23:\n",
    "            result = \"Поздравляю, Вы Скорпион!\"\n",
    "        if day >= 23 and day < 31:\n",
    "            result = \"Поздравляю, Вы Стрелец!\"\n",
    "        else: \n",
    "            result = \"Ошибка ввода даты\" \n",
    "    elif month.lower() == 'декабрь':\n",
    "        if day < 23:\n",
    "            result = \"Поздравляю, Вы Стрелец!\"\n",
    "        if day >= 23 and day < 32:\n",
    "            result = \"Поздравляю, Вы Козерог\"\n",
    "        else: \n",
    "            result = \"Ошибка ввода даты\"\n",
    "    else: result = \"Ошибка ввода месяца\"\n",
    "    print(result)\n",
    "        "
   ]
  },
  {
   "cell_type": "markdown",
   "metadata": {},
   "source": [
    "**Задание 4**. Нужно разработать приложение для финансового планирования.\n",
    "Приложение учитывает сколько уходит на ипотеку, \"на жизнь\" и сколько нужно отложить на пенсию.\n",
    "Пользователь вводит:\n",
    "- заработанную плату в месяц.\n",
    "- сколько процентов от ЗП уходит на ипотеку.\n",
    "- сколько процентов от ЗП уходит \"на жизнь\".\n",
    "- сколько раз приходит премия в год.\n",
    "\n",
    "Остальная часть заработанной платы откладывается на пенсию.\n",
    "\n",
    "Также пользователю приходит премия в размере зарплаты, от которой половина уходит на отпуск, а вторая половина откладывается.\n",
    "\n",
    "Программа должна учитывать сколько премий было в год.\n",
    "\n",
    "Нужно вывести сколько денег тратит пользователь на ипотеку и сколько он накопит за год.\n",
    "\n",
    "Пример:\n",
    "\n",
    "Введите заработанную плату в месяц: 100000\n",
    "\n",
    "Введите сколько процентов уходит на ипотеку: 30\n",
    "\n",
    "Введите сколько процентов уходит на жизнь: 50\n",
    "\n",
    "Введите количество премий за год: 2\n",
    "\n",
    "Вывод:\n",
    "На ипотеку было потрачено: 360000 рублей\n",
    "Было накоплено: 340000 рублей"
   ]
  },
  {
   "cell_type": "code",
   "execution_count": 2,
   "metadata": {},
   "outputs": [
    {
     "name": "stdin",
     "output_type": "stream",
     "text": [
      "Введите вашу месячную зарплату 25000\n",
      "Введите отчисления на ипотеку (в процентах от зарплаты) 14\n",
      "Сколько процентов зарплаты уходит \"на жизнь\" 38\n",
      "Сколько премий в год вы получаете 4\n"
     ]
    },
    {
     "name": "stdout",
     "output_type": "stream",
     "text": [
      "На ипотеку было потрачено:  42000.0 рублей\n",
      "Было накоплено:  328000.0 рублей\n"
     ]
    }
   ],
   "source": [
    "  salary = int(input('Введите вашу месячную зарплату'))\n",
    "  hypothec = int(input('Введите отчисления на ипотеку (в процентах от зарплаты)'))\n",
    "  lifeCost = int(input('Сколько процентов зарплаты уходит \"на жизнь\"'))\n",
    "  extraGain = int(input('Сколько премий в год вы получаете'))\n",
    "  totalHypotech = salary*12*hypothec/100\n",
    "  totalLifeCost = salary*12*lifeCost/100  \n",
    "  totalGain = salary*12+totalHypotech-totalLifeCost+salary*extraGain  \n",
    "  print (\"На ипотеку было потрачено: \",totalHypotech, \"рублей\" )\n",
    "  print (\"Было накоплено: \", totalGain, \"рублей\")"
   ]
  },
  {
   "cell_type": "code",
   "execution_count": null,
   "metadata": {},
   "outputs": [],
   "source": []
  }
 ],
 "metadata": {
  "kernelspec": {
   "display_name": "Python 3",
   "language": "python",
   "name": "python3"
  },
  "language_info": {
   "codemirror_mode": {
    "name": "ipython",
    "version": 3
   },
   "file_extension": ".py",
   "mimetype": "text/x-python",
   "name": "python",
   "nbconvert_exporter": "python",
   "pygments_lexer": "ipython3",
   "version": "3.7.3"
  }
 },
 "nbformat": 4,
 "nbformat_minor": 4
}
