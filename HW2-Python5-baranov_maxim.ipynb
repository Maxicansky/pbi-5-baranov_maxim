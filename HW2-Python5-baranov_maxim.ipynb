{
 "cells": [
  {
   "cell_type": "markdown",
   "metadata": {},
   "source": [
    "## Задание 1"
   ]
  },
  {
   "cell_type": "markdown",
   "metadata": {},
   "source": [
    "Дан список с визитами по городам и странам. \n",
    "Напишите код, который возвращает отфильтрованный список geo_logs, содержащий только визиты из России."
   ]
  },
  {
   "cell_type": "code",
   "execution_count": 3,
   "metadata": {},
   "outputs": [
    {
     "name": "stdout",
     "output_type": "stream",
     "text": [
      "{'visit1': ['Москва', 'Россия']}\n",
      "{'visit3': ['Владимир', 'Россия']}\n",
      "{'visit7': ['Тула', 'Россия']}\n",
      "{'visit8': ['Тула', 'Россия']}\n",
      "{'visit9': ['Курск', 'Россия']}\n",
      "{'visit10': ['Архангельск', 'Россия']}\n"
     ]
    }
   ],
   "source": [
    "geo_logs = [\n",
    "    {'visit1': ['Москва', 'Россия']},\n",
    "    {'visit2': ['Дели', 'Индия']},\n",
    "    {'visit3': ['Владимир', 'Россия']},\n",
    "    {'visit4': ['Лиссабон', 'Португалия']},\n",
    "    {'visit5': ['Париж', 'Франция']},\n",
    "    {'visit6': ['Лиссабон', 'Португалия']},\n",
    "    {'visit7': ['Тула', 'Россия']},\n",
    "    {'visit8': ['Тула', 'Россия']},\n",
    "    {'visit9': ['Курск', 'Россия']},\n",
    "    {'visit10': ['Архангельск', 'Россия']}\n",
    "]\n",
    "geo_logs_no_need=[]\n",
    "for visit in geo_logs:\n",
    "    for city in visit:\n",
    "        if visit[city][1]!='Россия':\n",
    "            geo_logs_no_need.append(visit)\n",
    "for visit in geo_logs_no_need:\n",
    "    geo_logs.remove(visit)\n",
    "for visit in geo_logs:\n",
    "    print (visit)"
   ]
  },
  {
   "cell_type": "markdown",
   "metadata": {},
   "source": [
    "## Задание 2"
   ]
  },
  {
   "cell_type": "markdown",
   "metadata": {},
   "source": [
    "Выведите на экран все уникальные гео-ID из значений словаря ids. Т. е. список вида [213, 15, 54, 119, 98, 35]"
   ]
  },
  {
   "cell_type": "code",
   "execution_count": 4,
   "metadata": {},
   "outputs": [
    {
     "name": "stdout",
     "output_type": "stream",
     "text": [
      "[213, 15, 54, 119, 98, 35]\n"
     ]
    }
   ],
   "source": [
    "ids = {'user1': [213, 213, 213, 15, 213], \n",
    "       'user2': [54, 54, 119, 119, 119], \n",
    "       'user3': [213, 98, 98, 35]}\n",
    "total_ids=[]\n",
    "for value_of_user in ids.values():\n",
    "    total_ids=total_ids+value_of_user\n",
    "unique_ids=[total_ids[1]]\n",
    "for id_one in total_ids:\n",
    "    for id_two in unique_ids:\n",
    "        count=0\n",
    "        if id_one == id_two:\n",
    "            count+=1\n",
    "            break\n",
    "    if count == 0:       \n",
    "        unique_ids.append(id_one)\n",
    "print (unique_ids)"
   ]
  },
  {
   "cell_type": "markdown",
   "metadata": {},
   "source": [
    "## Задание 3"
   ]
  },
  {
   "cell_type": "markdown",
   "metadata": {},
   "source": [
    "Дан список поисковых запросов. Получить распределение количества слов в них. \n",
    "Т. е. поисковых запросов из одного - слова 5%, из двух - 7%, из трех - 3% и т.д."
   ]
  },
  {
   "cell_type": "code",
   "execution_count": 31,
   "metadata": {},
   "outputs": [
    {
     "name": "stdout",
     "output_type": "stream",
     "text": [
      "{1: '11 %', 2: '33 %', 3: '44 %', 4: '0 %', 5: '0 %', 6: '11 %'}\n"
     ]
    }
   ],
   "source": [
    "queries = [\n",
    "    'смотреть сериалы онлайн',\n",
    "    'новости спорта',\n",
    "    'афиша кино',\n",
    "    'курс доллара',\n",
    "    'сериалы этим летом',\n",
    "    'курс по питону',\n",
    "    'сериалы про спорт',\n",
    "    'новый взгляд на принципы исторического материализма',\n",
    "    'Python',\n",
    "]\n",
    "straight=[]\n",
    "for string in queries:\n",
    "    count=len(string.split(\" \"))\n",
    "    straight.append(count)\n",
    "maximum=0;\n",
    "for count in straight:\n",
    "    if count > maximum:\n",
    "        maximum = count\n",
    "count=1\n",
    "final={}\n",
    "while count <= maximum:\n",
    "    percent=str(int(round(straight.count(count)/len(straight)*100,0)))+' %'\n",
    "    final[count]=percent\n",
    "    count+=1\n",
    "print(final)"
   ]
  },
  {
   "cell_type": "markdown",
   "metadata": {},
   "source": [
    "## Задание 4"
   ]
  },
  {
   "cell_type": "markdown",
   "metadata": {},
   "source": [
    "Дана статистика рекламных каналов по объемам продаж. Напишите скрипт, который возвращает название канала с максимальным объемом.\n",
    "Т. е. в данном примере скрипт должен возвращать 'yandex'."
   ]
  },
  {
   "cell_type": "code",
   "execution_count": 1,
   "metadata": {},
   "outputs": [
    {
     "name": "stdout",
     "output_type": "stream",
     "text": [
      "{'yandex': 120}\n"
     ]
    }
   ],
   "source": [
    "stats = {'facebook': 55, 'yandex': 120, 'vk': 115, 'google': 99, 'email': 42, 'ok': 98}\n",
    "best_stats={}\n",
    "max_volume = 0\n",
    "super_channel = 'ORT'\n",
    "for channel, volume in stats.items():\n",
    "    if max_volume < volume:\n",
    "        max_volume=volume\n",
    "        super_channel=channel\n",
    "best_stats[super_channel]=max_volume\n",
    "print(best_stats)   \n",
    "    "
   ]
  },
  {
   "cell_type": "markdown",
   "metadata": {},
   "source": [
    "## Задание 5"
   ]
  },
  {
   "cell_type": "markdown",
   "metadata": {},
   "source": [
    "Дан поток логов по количеству просмотренных страниц для каждого пользователя. Список отсортирован по ID пользователя. Вам необходимо написать алгоритм, который считает среднее значение просмотров на пользователя. \n",
    "Т. е. надо посчитать отношение суммы всех просмотров к количеству уникальных пользователей."
   ]
  },
  {
   "cell_type": "code",
   "execution_count": 16,
   "metadata": {},
   "outputs": [
    {
     "name": "stdout",
     "output_type": "stream",
     "text": [
      "Распределение просмотров по пользователем определяется словарем {'user1': 21, 'user2': 7, 'user3': 14, 'user4': 51}\n",
      "Искомое среднее значение равно  23.25\n"
     ]
    }
   ],
   "source": [
    "stream = [\n",
    "    '2018-01-01,user1,3',\n",
    "    '2018-01-07,user1,4',\n",
    "    '2018-03-29,user1,1',\n",
    "    '2018-04-04,user1,13',\n",
    "    '2018-01-05,user2,7',\n",
    "    '2018-06-14,user3,4',\n",
    "    '2018-07-02,user3,10',\n",
    "    '2018-03-21,user4,19',\n",
    "    '2018-03-22,user4,4',\n",
    "    '2018-04-22,user4,8',\n",
    "    '2018-05-03,user4,9',\n",
    "    '2018-05-11,user4,11',\n",
    "]\n",
    "log_list = []\n",
    "lists_in_stream = []\n",
    "for log in stream:\n",
    "    log_list = log.split(\",\")\n",
    "    lists_in_stream.append(log_list)\n",
    "leight = len(lists_in_stream)\n",
    "count = 0\n",
    "name = lists_in_stream[0][1]\n",
    "amount = 0\n",
    "stats = {}\n",
    "while count < leight:\n",
    "    if lists_in_stream[count][1] == name:\n",
    "        amount += int(lists_in_stream[count][2])\n",
    "    else: \n",
    "        stats[name] = amount\n",
    "        name = lists_in_stream[count][1]\n",
    "        amount = int(lists_in_stream[count][2])\n",
    "    count += 1\n",
    "stats[name] = amount\n",
    "total_amount = 0\n",
    "for amount in stats.values():\n",
    "    total_amount += amount\n",
    "result = total_amount / len(stats)\n",
    "print (\"Распределение просмотров по пользователем определяется словарем\", stats)\n",
    "print(\"Искомое среднее значение равно \", result)    \n"
   ]
  },
  {
   "cell_type": "markdown",
   "metadata": {},
   "source": [
    "## Задание 6"
   ]
  },
  {
   "cell_type": "markdown",
   "metadata": {},
   "source": [
    "Дана статистика рекламных кампаний по дням. Напишите алгоритм, который по паре дата-кампания ищет значение численного столбца. \n",
    "Т. е. для даты '2018-01-01' и 'google' нужно получить число 25. \n",
    "Считайте, что все комбинации дата-кампания уникальны."
   ]
  },
  {
   "cell_type": "code",
   "execution_count": 4,
   "metadata": {},
   "outputs": [
    {
     "name": "stdin",
     "output_type": "stream",
     "text": [
      "Введите наименование компании: market\n",
      "Введите дату в формате \"yyyy-mm-dd\": 2018-01-03\n"
     ]
    },
    {
     "name": "stdout",
     "output_type": "stream",
     "text": [
      "Количество рекламных касаний определяется списком: ['2018-01-03', 'market', 1764]\n"
     ]
    }
   ],
   "source": [
    "stats = [\n",
    "    ['2018-01-01', 'google', 25],\n",
    "    ['2018-01-01', 'yandex', 65],\n",
    "    ['2018-01-01', 'market', 89],\n",
    "    ['2018-01-02', 'google', 574],\n",
    "    ['2018-01-02', 'yandex', 249],\n",
    "    ['2018-01-02', 'market', 994],\n",
    "    ['2018-01-03', 'google', 1843],\n",
    "    ['2018-01-03', 'yandex', 1327],\n",
    "    ['2018-01-03', 'market', 1764],\n",
    "]\n",
    "company = input ('Введите наименование компании:')\n",
    "date = input ('Введите дату в формате \"yyyy-mm-dd\":')\n",
    "result = []\n",
    "for set in stats:\n",
    "    if set[1] == company and set[0] == date:\n",
    "        result.append(date)  \n",
    "        result.append(company)  \n",
    "        result.append(set[2])\n",
    "        break\n",
    "print(\"Количество рекламных касаний определяется списком:\", result)\n"
   ]
  },
  {
   "cell_type": "code",
   "execution_count": 5,
   "metadata": {},
   "outputs": [
    {
     "name": "stdout",
     "output_type": "stream",
     "text": [
      "['2018-01-03', 'market', 1764]\n"
     ]
    }
   ],
   "source": [
    "print(result)"
   ]
  }
 ],
 "metadata": {
  "kernelspec": {
   "display_name": "Python 3",
   "language": "python",
   "name": "python3"
  },
  "language_info": {
   "codemirror_mode": {
    "name": "ipython",
    "version": 3
   },
   "file_extension": ".py",
   "mimetype": "text/x-python",
   "name": "python",
   "nbconvert_exporter": "python",
   "pygments_lexer": "ipython3",
   "version": "3.7.3"
  }
 },
 "nbformat": 4,
 "nbformat_minor": 4
}
