{
 "cells": [
  {
   "cell_type": "markdown",
   "metadata": {},
   "source": [
    "## Задание 1"
   ]
  },
  {
   "cell_type": "markdown",
   "metadata": {},
   "source": [
    "Дан список вида: Напишите функцию, которая возвращает сумму элементов на диагонали. Т. е. 13+32+23+35."
   ]
  },
  {
   "cell_type": "code",
   "execution_count": 36,
   "metadata": {},
   "outputs": [
    {
     "data": {
      "text/plain": [
       "103"
      ]
     },
     "execution_count": 36,
     "metadata": {},
     "output_type": "execute_result"
    }
   ],
   "source": [
    "data = [\n",
    "    [13, 25, 23, 34],\n",
    "    [45, 32, 44, 47],\n",
    "    [12, 33, 23, 95],\n",
    "    [13, 53, 34, 35]\n",
    "]\n",
    "def matrix_trace(matrix: list):\n",
    "    index = 0\n",
    "    trace = 0\n",
    "    for element in matrix[0]:\n",
    "        trace += matrix[index][index]\n",
    "        index += 1\n",
    "    return trace\n",
    "matrix_trace(data)\n",
    "    \n",
    "    "
   ]
  },
  {
   "cell_type": "markdown",
   "metadata": {},
   "source": [
    "## Задание 2"
   ]
  },
  {
   "cell_type": "markdown",
   "metadata": {},
   "source": [
    "Дан список чисел, часть из которых имеют строковый тип или содержат буквы. Напишите функцию, которая возвращает сумму квадратов элементов, которые могут быть числами."
   ]
  },
  {
   "cell_type": "code",
   "execution_count": 34,
   "metadata": {},
   "outputs": [
    {
     "name": "stdout",
     "output_type": "stream",
     "text": [
      "430.0\n"
     ]
    }
   ],
   "source": [
    "data = [1, '5', 'abc', 20, '2']\n",
    "def sum_of_squared (line :list):\n",
    "    result = 0\n",
    "    for element in line:\n",
    "        if type(element) == int or type(element) == float:\n",
    "            result += element * element \n",
    "        elif type(element) == str:\n",
    "            try:\n",
    "                float_element = float(element)\n",
    "                result += float_element * float_element\n",
    "            except:\n",
    "                pass\n",
    "    return result\n",
    "print (sum_of_squared (data))  \n"
   ]
  },
  {
   "cell_type": "markdown",
   "metadata": {},
   "source": [
    "## Задание 3"
   ]
  },
  {
   "cell_type": "markdown",
   "metadata": {},
   "source": [
    "Напишите функцию, возвращающую сумму первых n чисел Фибоначчи."
   ]
  },
  {
   "cell_type": "code",
   "execution_count": 35,
   "metadata": {},
   "outputs": [
    {
     "name": "stdin",
     "output_type": "stream",
     "text": [
      "Введите порядковы номер числа Фибоначчи: 8\n"
     ]
    },
    {
     "name": "stdout",
     "output_type": "stream",
     "text": [
      "Значение  8 - го элемента ряда Фибоначчи равно 21\n",
      "Значение суммы 8 элементов ряда Фибоначчи равно 54\n"
     ]
    }
   ],
   "source": [
    "def fibonacci_number (numeric :int):\n",
    "    count = 1\n",
    "    first_no = 0\n",
    "    second_no = 1\n",
    "    while count <= numeric:\n",
    "        second_no += first_no\n",
    "        first_no = second_no - first_no\n",
    "        count += 1\n",
    "    return first_no  \n",
    "def fibonacci_sum (numeric :int):\n",
    "    result = fibonacci_number(numeric+2) - 1\n",
    "    return result\n",
    "\n",
    "index = input ('Введите порядковы номер числа Фибоначчи:')\n",
    "print ('Значение ', index, '- го элемента ряда Фибоначчи равно', fibonacci_number(int(index)))\n",
    "print ('Значение суммы', index, 'элементов ряда Фибоначчи равно', fibonacci_sum(int(index)))"
   ]
  },
  {
   "cell_type": "markdown",
   "metadata": {},
   "source": [
    "## Задание 4"
   ]
  },
  {
   "cell_type": "markdown",
   "metadata": {},
   "source": [
    "Дан набор данных об обучении студентов на курсе программирования, который содержит: \n",
    "1) имя\n",
    "2) фамилию \n",
    "3) пол \n",
    "4) наличие у студента опыта в программировании \n",
    "5) набор оценок за домашние работы \n",
    "6) оценку за итоговую работу.\n",
    "\n",
    "Напишите программу, которая будет принимать команду от пользователя и возвращать соотвествующий результат.\n",
    "Список команд: \n",
    "1 - вывести на экран среднюю оценку за все ДЗ по группе и вывести на экран среднюю оценку за экзамен по группе;\n",
    "2 - вывести среднюю оценку за ДЗ и за экзамен по группе в разрезе пола студентов\n",
    "3 - вывести среднюю оценку за ДЗ и за экзамен в разрезе наличия опыта в программировании у студентов.\n",
    "\n",
    "Прогрмма должна быть полностью декомпозирована на функции (кроме объявления функций и вызова итоговой функции в реализации ничего быть не должно)."
   ]
  },
  {
   "cell_type": "code",
   "execution_count": 33,
   "metadata": {},
   "outputs": [
    {
     "name": "stdout",
     "output_type": "stream",
     "text": [
      "Введите число соответствующее Вашему запросу\n",
      "1 если Вы хотите вывести на экран среднюю оценку за все ДЗ по группе и вывести на экран среднюю оценку за экзамен по группе\n",
      "2 если Вы вывести среднюю оценку за ДЗ и за экзамен по группе в разрезе пола студентов\n",
      "3 если Вы вывести среднюю оценку за ДЗ и за экзамен в разрезе наличия опыта в программировании у студентов\n"
     ]
    },
    {
     "name": "stdin",
     "output_type": "stream",
     "text": [
      "Ввод: цу\n"
     ]
    },
    {
     "name": "stdout",
     "output_type": "stream",
     "text": [
      "Вводите числа, а не буквы\n"
     ]
    }
   ],
   "source": [
    "students_list = [\n",
    "    {'name': 'Василий', 'surname': 'Теркин', 'sex': 'м', 'program_exp': True, 'grade': [8, 8, 9, 10, 9], 'exam': 9},\n",
    "    {'name': 'Мария', 'surname': 'Павлова', 'sex': 'ж', 'program_exp': True, 'grade': [7, 8, 9, 7, 9], 'exam': 8},\n",
    "    {'name': 'Ирина', 'surname': 'Андреева', 'sex': 'ж', 'program_exp': True, 'grade': [10, 9, 8, 10, 10], 'exam': 10},\n",
    "    {'name': 'Татьяна', 'surname': 'Сидорова', 'sex': 'ж', 'program_exp': True, 'grade': [7, 8, 8, 9, 8], 'exam': 8},\n",
    "    {'name': 'Иван', 'surname': 'Васильев', 'sex': 'ж', 'program_exp': True, 'grade': [9, 8, 9, 6, 9], 'exam': 10},\n",
    "    {'name': 'Роман', 'surname': 'Золотарев', 'sex': 'ж', 'program_exp': False, 'grade': [8, 9, 9, 6, 9], 'exam': 10}\n",
    "]\n",
    "def average_exam (students_list :list):\n",
    "    av_exam = 0\n",
    "    count = 0\n",
    "    for student in students_list:\n",
    "        av_exam += student['exam']\n",
    "        count += 1\n",
    "    return round(av_exam/count,1)\n",
    "\n",
    "def average_homework (students_list :list):\n",
    "    av_hw = 0\n",
    "    count = 0\n",
    "    for student in students_list:\n",
    "        for grade in student['grade']:\n",
    "            av_hw += grade\n",
    "            count += 1\n",
    "    return round(av_hw/count,1)\n",
    "\n",
    "def average_exam_men (students_list :list):\n",
    "    av_exam = 0\n",
    "    count = 0\n",
    "    for student in students_list:\n",
    "        if student['sex'] == 'м':\n",
    "            av_exam += student['exam']\n",
    "            count += 1\n",
    "    return round(av_exam/count,1)\n",
    "\n",
    "def average_exam_women (students_list :list):\n",
    "    av_exam = 0\n",
    "    count = 0\n",
    "    for student in students_list:\n",
    "        if student['sex'] == 'ж':\n",
    "            av_exam += student['exam']\n",
    "            count += 1\n",
    "    return round(av_exam/count,1)\n",
    "\n",
    "def average_homework_men (students_list :list):\n",
    "    av_hw = 0\n",
    "    count = 0\n",
    "    for student in students_list:\n",
    "        if student['sex'] == 'м':\n",
    "            for grade in student['grade']:\n",
    "                av_hw += grade\n",
    "                count += 1\n",
    "    return round(av_hw/count,1)\n",
    "\n",
    "def average_homework_women (students_list :list):\n",
    "    av_hw = 0\n",
    "    count = 0\n",
    "    for student in students_list:\n",
    "        if student['sex'] == 'ж':\n",
    "            for grade in student['grade']:\n",
    "                av_hw += grade\n",
    "                count += 1\n",
    "    return round(av_hw/count,1)\n",
    "\n",
    "def average_exam_pos_exp (students_list :list):\n",
    "    av_exam = 0\n",
    "    count = 0\n",
    "    for student in students_list:\n",
    "        if student['program_exp'] == True:\n",
    "            av_exam += student['exam']\n",
    "            count += 1\n",
    "    return round(av_exam/count,1)\n",
    "\n",
    "def average_homework_pos_exp (students_list :list):\n",
    "    av_hw = 0\n",
    "    count = 0\n",
    "    for student in students_list:\n",
    "        if student['program_exp'] == True:\n",
    "            for grade in student['grade']:\n",
    "                av_hw += grade\n",
    "                count += 1\n",
    "    return round(av_hw/count,1)\n",
    "\n",
    "def average_exam_neg_exp (students_list :list):\n",
    "    av_exam = 0\n",
    "    count = 0\n",
    "    for student in students_list:\n",
    "        if student['program_exp'] == False:\n",
    "            av_exam += student['exam']\n",
    "            count += 1\n",
    "    return round(av_exam/count,1)\n",
    "\n",
    "def average_homework_neg_exp (students_list :list):\n",
    "    av_hw = 0\n",
    "    count = 0\n",
    "    for student in students_list:\n",
    "        if student['program_exp'] == False:\n",
    "            for grade in student['grade']:\n",
    "                av_hw += grade\n",
    "                count += 1\n",
    "    return round(av_hw/count,1)\n",
    "\n",
    "def programm (students_list :list):\n",
    "    print('Введите число соответствующее Вашему запросу')\n",
    "    print('1 если Вы хотите вывести на экран среднюю оценку за все ДЗ по группе и вывести на экран среднюю оценку за экзамен по группе')\n",
    "    print('2 если Вы вывести среднюю оценку за ДЗ и за экзамен по группе в разрезе пола студентов')\n",
    "    print('3 если Вы вывести среднюю оценку за ДЗ и за экзамен в разрезе наличия опыта в программировании у студентов')\n",
    "    choice = input('Ввод:')\n",
    "    try:\n",
    "        float(choice)\n",
    "        if int(choice) == 1:\n",
    "            print('Средняя оценка за ДЗ по группе: ',average_homework(students_list))\n",
    "            print('Средняя оценка за экзамен по группе: ',average_exam(students_list))\n",
    "        elif int(choice) == 2:\n",
    "            print('Средняя оценка за ДЗ по группе у мальчиков: ',average_homework_men(students_list), 'у девочек:', average_homework_men(students_list))\n",
    "            print('Средняя оценка за экзамен по группе у мальчиков: ',average_exam_men(students_list), 'у девочек', average_exam_women(students_list))\n",
    "        elif int(choice) == 3:\n",
    "            print('Средняя оценка за ДЗ по группе у опытных: ',average_homework_pos_exp(students_list), 'у неопытных:', average_homework_neg_exp(students_list))\n",
    "            print('Средняя оценка за экзамен по группе у опытных: ',average_exam_pos_exp(students_list), 'у неопытных', average_exam_neg_exp(students_list))\n",
    "        else:\n",
    "            print('Пожалуйста, будьте внимательнее при вводе значения')\n",
    "    except:\n",
    "        print('Вводите числа, а не буквы')\n",
    "  \n",
    "programm (students_list)\n",
    "\n",
    "        \n",
    "    "
   ]
  },
  {
   "cell_type": "code",
   "execution_count": null,
   "metadata": {},
   "outputs": [],
   "source": []
  }
 ],
 "metadata": {
  "kernelspec": {
   "display_name": "Python 3",
   "language": "python",
   "name": "python3"
  },
  "language_info": {
   "codemirror_mode": {
    "name": "ipython",
    "version": 3
   },
   "file_extension": ".py",
   "mimetype": "text/x-python",
   "name": "python",
   "nbconvert_exporter": "python",
   "pygments_lexer": "ipython3",
   "version": "3.7.3"
  }
 },
 "nbformat": 4,
 "nbformat_minor": 4
}
